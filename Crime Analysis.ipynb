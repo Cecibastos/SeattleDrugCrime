{
 "cells": [
  {
   "cell_type": "markdown",
   "metadata": {},
   "source": [
    "# An analysis of drug related crime in Seattle\n",
    "\n",
    "Areas of narcotic manufacture are segregated from areas of sale and purchasing in downtown Seattle, with the Pike Market area being the main market for drug trade.\n",
    "\n",
    "In this document we analyse crime data from Seattle and overlay it, after filtering out non-drug related data, onto a map of the region, and then concentrating on the downtown area."
   ]
  },
  {
   "cell_type": "code",
   "execution_count": 1,
   "metadata": {
    "collapsed": true
   },
   "outputs": [],
   "source": [
    "import numpy as np\n",
    "import matplotlib.pyplot as plt \n",
    "import csv, re\n",
    "\n",
    "%matplotlib inline"
   ]
  },
  {
   "cell_type": "code",
   "execution_count": 2,
   "metadata": {
    "collapsed": false
   },
   "outputs": [],
   "source": [
    "# First let's get the data.\n",
    "with open('seattle_incidents_summer_2014.csv') as f:\n",
    "    content = f.readlines()"
   ]
  },
  {
   "cell_type": "code",
   "execution_count": 3,
   "metadata": {
    "collapsed": false
   },
   "outputs": [
    {
     "name": "stdout",
     "output_type": "stream",
     "text": [
      "# of columns: 18 |Data: ['RMS CDW ID', 'General Offense Number', 'Offense Code', 'Offense Code Extension', 'Offense Type', 'Summary Offense Code', 'Summarized Offense Description', 'Date Reported', 'Occurred Date or Date Range Start', 'Occurred Date Range End', 'Hundred Block Location', 'District/Sector', 'Zone/Beat', 'Census Tract 2000', 'Longitude', 'Latitude', 'Month', 'Year']\n",
      "# of columns: 18 |Data: ['483839', '2015218538', '2202', '0', 'BURGLARY-FORCE-RES', '2200', 'BURGLARY', '06/28/2015 10:31:00 AM', '06/28/2014 10:31:00 AM', '06/28/2015 10:31:00 AM', '6XX BLOCK OF NW 74 ST', 'J', 'J2', '2900.3013', '-122.364671996', '47.68252427', '6', '2014']\n"
     ]
    }
   ],
   "source": [
    "# Cleaning up the data - particularly the redundant field \"Location\", which has an awkward comma.\n",
    "location_pattern = re.compile(r\"\\,\\\"\\(\\-*\\d+\\.\\d+, \\-*\\d+\\.\\d+\\)\\\"\", re.IGNORECASE)\n",
    "new_content = []\n",
    "for line in content:\n",
    "    new_content.append(location_pattern.sub(\"\", line.replace(\"\\n\", \"\")).split(\",\")) # also get rid of carriage return\n",
    "new_content[0].remove(\"Location\")\n",
    "print \"# of columns:\", len(new_content[0]), \"|Data:\", new_content[0]\n",
    "print \"# of columns:\", len(new_content[1]), \"|Data:\", new_content[1]"
   ]
  },
  {
   "cell_type": "code",
   "execution_count": 4,
   "metadata": {
    "collapsed": false
   },
   "outputs": [
    {
     "name": "stdout",
     "output_type": "stream",
     "text": [
      "['RMS CDW ID' 'General Offense Number' 'Offense Code'\n",
      " 'Offense Code Extension' 'Offense Type' 'Summary Offense Code'\n",
      " 'Summarized Offense Description' 'Date Reported'\n",
      " 'Occurred Date or Date Range Start' 'Occurred Date Range End'\n",
      " 'Hundred Block Location' 'District/Sector' 'Zone/Beat' 'Census Tract 2000'\n",
      " 'Longitude' 'Latitude' 'Month' 'Year']\n",
      "['483839' '2015218538' '2202' '0' 'BURGLARY-FORCE-RES' '2200' 'BURGLARY'\n",
      " '06/28/2015 10:31:00 AM' '06/28/2014 10:31:00 AM' '06/28/2015 10:31:00 AM'\n",
      " '6XX BLOCK OF NW 74 ST' 'J' 'J2' '2900.3013' '-122.364671996'\n",
      " '47.68252427' '6' '2014']\n"
     ]
    }
   ],
   "source": [
    "# Transform data into a Numpy array\n",
    "crime_data = np.array(new_content)\n",
    "print crime_data[0]\n",
    "print crime_data[1]"
   ]
  },
  {
   "cell_type": "code",
   "execution_count": 5,
   "metadata": {
    "collapsed": false
   },
   "outputs": [
    {
     "name": "stdout",
     "output_type": "stream",
     "text": [
      "We have 32779 data points\n"
     ]
    }
   ],
   "source": [
    "data_size = len(crime_data)\n",
    "print \"We have %s data points\" %(data_size - 1)  # Header does not count :)"
   ]
  },
  {
   "cell_type": "code",
   "execution_count": 6,
   "metadata": {
    "collapsed": false
   },
   "outputs": [
    {
     "name": "stdout",
     "output_type": "stream",
     "text": [
      "{'1304': 'ASSLT-AGG-GUN', '1305': 'ASSLT-AGG-WEAPON', '1306': 'ASSLT-AGG-BODYFORCE', '3571': 'NARC-SELL-AMPHETAMINE', '3550': 'NARC-EQUIPMENT/PARAPHENALIA', '4901': 'ESCAPE', '2404': 'VEH-THEFT-AUTO', '1316': 'THREATS-OTHER', '1313': 'ASSLT-NONAGG', '1312': 'ASSLT-AGG-POLICE-BODYFORCE', '1311': 'ASSLT-AGG-POLICE-WEAPON', '5309': 'HARASSMENT', '999': 'HOMICIDE-JUST-WEAPON', 'X': 'PROPERTY LOST', '3562': 'NARC-POSSESS-MARIJU', '2999': 'PROPERTY DAMAGE - GRAFFITI', '3560': 'NARC-SELL-MARIJU', '2316': 'THEFT-MAIL', '2799': 'EMBEZZLE', '2399': 'THEFT-OTH', '2903': 'PROPERTY DAMAGE-NON RESIDENTIA', '2902': 'PROPERTY DAMAGE-RESIDENTIAL', '4899': 'OBSTRUCT', '5015': 'WARRARR-MISDEMEANOR', '5016': 'VIOL-COURT ORDER', '5499': 'TRAFFIC', '2308': 'THEFT-BUILDING', '2301': 'THEFT-PKPOCKET', '2303': 'THEFT-SHOPLIFT', '2302': 'THEFT-PRSNATCH', '2305': 'THEFT-CARPROWL', '2304': 'THEFT-AUTOACC', '2307': 'THEFT-COINOP', '3572': 'NARC-POSSESS-AMPHETAMINE', '911': 'HOMICIDE-PREMEDITATED-GUN', '2605': 'FRAUD-CREDIT CARD', '2606': 'FRAUD-CHECK', '4199': 'LIQUOR LAW VIOLATION', '2608': 'FRAUD-WIRE-ELECTRONIC', '2609': 'FRAUD-COMPUTER', '4812': 'FALSE REPORT', '5404': 'DUI-LIQUOR', '5403': 'DUI-DRUGS', '3504': 'NARC-POSSESS-HALLUCINOGEN', '2299': 'BURGLARY-SECURE PARKING-RES', '3510': 'NARC-SELL-HEROIN', '2610': 'FRAUD-IDENTITY THEFT', '3599': 'NARC-POSSESS-OTHER', '2599': 'COUNTERFEIT', '2802': 'PROPERTY STOLEN-TRAFFICKING', '2801': 'PROPERTY STOLEN-SELL', '2804': 'PROPERTY STOLEN-POSSESS', '2202': 'BURGLARY-FORCE-RES', '2203': 'BURGLARY-FORCE-NONRES', '2204': 'BURGLARY-NOFORCE-RES', '2205': 'BURGLARY-NOFORCE-NONRES', '3512': 'NARC-POSSESS-HEROIN', '5707': 'TRESPASS', '3899': 'ENDANGERMENT', '3563': 'NARC-PRODUCE-MARIJU', '1211': 'ROBBERY-BANK-WEAPON', '2589': 'FORGERY-OTH', '2699': 'FRAUD-OTHER', '1209': 'ROBBERY-RESIDENCE-BODYFORCE', '1208': 'ROBBERY-RESIDENCE-WEAPON', '5299': 'WEAPON-UNLAWFUL USE', '1205': 'ROBBERY-STREET-WEAPON', '1204': 'ROBBERY-STREET-GUN', '1207': 'ROBBERY-RESIDENCE-GUN', '1206': 'ROBBERY-STREET-BODYFORCE', '1201': 'ROBBERY-BUSINESS-GUN', '1203': 'ROBBERY-BUSINESS-BODYFORCE', '1202': 'ROBBERY-BUSINESS-WEAPON', '3530': 'NARC-SELL-COCAINE', '5214': 'WEAPON-SELLING', '3532': 'NARC-POSSESS-COCAINE', '5212': 'WEAPON-POSSESSION', '5213': 'WEAPON-DISCHARGE', '4002': 'PROSTITUTION-ASSIST-PROMOTE', '1310': 'ASSLT-AGG-POLICE-GUN', '4004': 'PROSTITUTION', '2502': 'FORGERY-CREDIT CARD', '2501': 'FORGERY-CHECK', '4099': 'PROSTITUTION PATRONIZING', '5202': 'WEAPON-CONCEALED', '5207': 'FIREWORK-POSSESS', '5208': 'FIREWORK-USE', '3700': 'PORNOGRAPHY-OBSCENE MATERIAL', '3540': 'NARC-SELL-METH', '3542': 'NARC-POSSESS-METH', '5311': 'URINATING/DEFECATING-IN PUBLIC', '4999': 'ELUDING-FELONY FLIGHT'}\n"
     ]
    }
   ],
   "source": [
    "# Create a dictionary of offenses, so we can have an idea of the range of issues we can work with\n",
    "offense_codes = {}\n",
    "for i in range(1, data_size):\n",
    "    code = crime_data[i][2]\n",
    "    if code not in offense_codes.keys():\n",
    "        offense_codes[code] = crime_data[i][4]\n",
    "print offense_codes"
   ]
  },
  {
   "cell_type": "code",
   "execution_count": 7,
   "metadata": {
    "collapsed": false
   },
   "outputs": [
    {
     "name": "stdout",
     "output_type": "stream",
     "text": [
      "Sale of drugs: \n",
      "NARC-SELL-AMPHETAMINE\n",
      "NARC-SELL-MARIJU\n",
      "NARC-SELL-HEROIN\n",
      "NARC-SELL-COCAINE\n",
      "NARC-SELL-METH\n",
      "LIQUOR LAW VIOLATION\n",
      "\n",
      "Manufacture of drugs\n",
      "NARC-EQUIPMENT/PARAPHENALIA\n",
      "NARC-PRODUCE-MARIJU\n",
      "\n",
      "Possession of drugs\n",
      "NARC-POSSESS-AMPHETAMINE\n",
      "NARC-POSSESS-MARIJU\n",
      "NARC-POSSESS-HEROIN\n",
      "NARC-POSSESS-COCAINE\n",
      "NARC-POSSESS-METH\n",
      "NARC-POSSESS-HALLUCINOGEN\n",
      "NARC-POSSESS-OTHER\n",
      "\n",
      "Drug abuse\n",
      "DUI-LIQUOR\n",
      "DUI-DRUGS\n"
     ]
    }
   ],
   "source": [
    "# Let's have a look at those offenses related to drug use and sale\n",
    "print \"Sale of drugs: \"\n",
    "print offense_codes['3571']\n",
    "print offense_codes['3560']\n",
    "print offense_codes['3510']\n",
    "print offense_codes['3530']\n",
    "print offense_codes['3540']\n",
    "print offense_codes['4199']\n",
    "\n",
    "print \"\\nManufacture of drugs\"\n",
    "print offense_codes['3550']\n",
    "print offense_codes['3563']\n",
    "\n",
    "print \"\\nPossession of drugs\"\n",
    "print offense_codes['3572']\n",
    "print offense_codes['3562']\n",
    "print offense_codes['3512']\n",
    "print offense_codes['3532']\n",
    "print offense_codes['3542']\n",
    "print offense_codes['3504']\n",
    "print offense_codes['3599']\n",
    "\n",
    "print \"\\nDrug abuse\"\n",
    "print offense_codes['5404']\n",
    "print offense_codes['5403']"
   ]
  },
  {
   "cell_type": "code",
   "execution_count": 8,
   "metadata": {
    "collapsed": false
   },
   "outputs": [],
   "source": [
    "drug_sale_mask = (crime_data[:,2] == '3571') + \\\n",
    "                  (crime_data[:,2] == '3560') + \\\n",
    "                  (crime_data[:,2] == '3510') + \\\n",
    "                  (crime_data[:,2] == '3530') + \\\n",
    "                  (crime_data[:,2] == '3540') + \\\n",
    "                  (crime_data[:,2] == '4199')\n",
    "drug_manu_mask = (crime_data[:,2] == '3550') + \\\n",
    "                  (crime_data[:,2] == '3563')\n",
    "drug_poss_mask = (crime_data[:,2] == '3572') + \\\n",
    "                  (crime_data[:,2] == '3562') + \\\n",
    "                  (crime_data[:,2] == '3512') + \\\n",
    "                  (crime_data[:,2] == '3532') + \\\n",
    "                  (crime_data[:,2] == '3542') + \\\n",
    "                  (crime_data[:,2] == '3504') + \\\n",
    "                  (crime_data[:,2] == '3599')\n",
    "drug_abus_mask = (crime_data[:,2] == '5404') + \\\n",
    "                  (crime_data[:,2] == '5403')"
   ]
  },
  {
   "cell_type": "code",
   "execution_count": 9,
   "metadata": {
    "collapsed": false
   },
   "outputs": [],
   "source": [
    "#  I am interested in seeing the relationships on this data, so let's create some subsets:\n",
    "drug_sale_crime = crime_data[drug_sale_mask]\n",
    "drug_manufacture_crime = crime_data[drug_manu_mask]\n",
    "drug_possession_crime = crime_data[drug_poss_mask]\n",
    "drug_abuse_crime = crime_data[drug_abus_mask]"
   ]
  },
  {
   "cell_type": "code",
   "execution_count": 10,
   "metadata": {
    "collapsed": false
   },
   "outputs": [
    {
     "data": {
      "text/plain": [
       "array([['1106608', '2014354720', '3510', ..., '47.498700563', '6', '2014'],\n",
       "       ['1086935', '2014288494', '3510', ..., '47.586366433', '8', '2014'],\n",
       "       ['110427', '2014288494', '3510', ..., '47.586366433', '8', '2014'],\n",
       "       ..., \n",
       "       ['57140', '2014178531', '4199', ..., '47.615473377', '6', '2014'],\n",
       "       ['1124470', '2014177710', '3530', ..., '47.727348714', '6', '2014'],\n",
       "       ['57339', '2014177710', '3530', ..., '47.727348714', '6', '2014']], \n",
       "      dtype='|S47')"
      ]
     },
     "execution_count": 10,
     "metadata": {},
     "output_type": "execute_result"
    }
   ],
   "source": [
    "drug_sale_crime"
   ]
  },
  {
   "cell_type": "code",
   "execution_count": 11,
   "metadata": {
    "collapsed": false
   },
   "outputs": [
    {
     "name": "stdout",
     "output_type": "stream",
     "text": [
      "south - east corner: 0 -122.238969938\n",
      "north - west corner: 47.74960605 0\n"
     ]
    }
   ],
   "source": [
    "# I am interested in seeing where these crimes are more prevalent, so I will overlay the data into a map.\n",
    "# But first I need to find the corners of the map.\n",
    "x, y = -4, -3\n",
    "latitudes = crime_data[1:,y]\n",
    "longitudes = crime_data[1:,x]\n",
    "print \"south - east corner:\", min(latitudes), min(longitudes)\n",
    "print \"north - west corner:\", max(latitudes), max(longitudes)"
   ]
  },
  {
   "cell_type": "code",
   "execution_count": 12,
   "metadata": {
    "collapsed": false
   },
   "outputs": [
    {
     "name": "stdout",
     "output_type": "stream",
     "text": [
      "2050\n",
      "2050\n"
     ]
    }
   ],
   "source": [
    "# OK, we seem to have dirty data where the lat/lon are recorded as 0... Let's list how many of those we have.\n",
    "print len(crime_data[crime_data[:,y] == '0'][:,4])\n",
    "print len(crime_data[crime_data[:,x] == '0'][:,4])"
   ]
  },
  {
   "cell_type": "code",
   "execution_count": 13,
   "metadata": {
    "collapsed": true
   },
   "outputs": [],
   "source": [
    "# Let's filter those values out then:\n",
    "crime_data = crime_data[crime_data[:,y] <> '0']"
   ]
  },
  {
   "cell_type": "code",
   "execution_count": 14,
   "metadata": {
    "collapsed": false
   },
   "outputs": [
    {
     "name": "stdout",
     "output_type": "stream",
     "text": [
      "0\n",
      "south - east corner: 47.465062973 -122.238969938\n",
      "north - west corner: 47.74960605 -122.425315024\n"
     ]
    }
   ],
   "source": [
    "print len(crime_data[crime_data[:,y] == '0'][:,4])\n",
    "latitudes = crime_data[1:,y]\n",
    "longitudes = crime_data[1:,x]\n",
    "print \"south - east corner:\", min(latitudes), min(longitudes)\n",
    "print \"north - west corner:\", max(latitudes), max(longitudes)"
   ]
  },
  {
   "cell_type": "code",
   "execution_count": 15,
   "metadata": {
    "collapsed": true
   },
   "outputs": [],
   "source": [
    "# We'll do the same for our drug crime subsets:\n",
    "drug_sale_crime = drug_sale_crime[drug_sale_crime[:,y] <> '0']\n",
    "drug_manufacture_crime = drug_manufacture_crime[drug_manufacture_crime[:,y] <> '0']\n",
    "drug_possession_crime = drug_possession_crime[drug_possession_crime[:,y] <> '0']\n",
    "drug_abuse_crime = drug_abuse_crime[drug_abuse_crime[:,y] <> '0']"
   ]
  },
  {
   "cell_type": "code",
   "execution_count": 16,
   "metadata": {
    "collapsed": false,
    "scrolled": true
   },
   "outputs": [
    {
     "ename": "TypeError",
     "evalue": "ufunc 'isfinite' not supported for the input types, and the inputs could not be safely coerced to any supported types according to the casting rule ''safe''",
     "output_type": "error",
     "traceback": [
      "\u001b[1;31m---------------------------------------------------------------------------\u001b[0m",
      "\u001b[1;31mTypeError\u001b[0m                                 Traceback (most recent call last)",
      "\u001b[1;32m<ipython-input-16-d749cb34fbfa>\u001b[0m in \u001b[0;36m<module>\u001b[1;34m()\u001b[0m\n\u001b[0;32m     13\u001b[0m \u001b[0msale\u001b[0m \u001b[1;33m=\u001b[0m \u001b[0mplt\u001b[0m\u001b[1;33m.\u001b[0m\u001b[0mscatter\u001b[0m\u001b[1;33m(\u001b[0m\u001b[0mdrug_sale_crime\u001b[0m\u001b[1;33m[\u001b[0m\u001b[1;33m:\u001b[0m\u001b[1;33m,\u001b[0m\u001b[0mx\u001b[0m\u001b[1;33m]\u001b[0m\u001b[1;33m,\u001b[0m\u001b[0mdrug_sale_crime\u001b[0m\u001b[1;33m[\u001b[0m\u001b[1;33m:\u001b[0m\u001b[1;33m,\u001b[0m\u001b[0my\u001b[0m\u001b[1;33m]\u001b[0m\u001b[1;33m,\u001b[0m \u001b[0mzorder\u001b[0m\u001b[1;33m=\u001b[0m\u001b[1;36m1\u001b[0m\u001b[1;33m,\u001b[0m \u001b[0mcolor\u001b[0m\u001b[1;33m=\u001b[0m\u001b[1;34m'blue'\u001b[0m\u001b[1;33m,\u001b[0m \u001b[0mlabel\u001b[0m\u001b[1;33m=\u001b[0m\u001b[1;34m'Sale'\u001b[0m\u001b[1;33m)\u001b[0m\u001b[1;33m\u001b[0m\u001b[0m\n\u001b[0;32m     14\u001b[0m \u001b[0mplt\u001b[0m\u001b[1;33m.\u001b[0m\u001b[0mlegend\u001b[0m\u001b[1;33m(\u001b[0m\u001b[0mhandles\u001b[0m\u001b[1;33m=\u001b[0m\u001b[1;33m[\u001b[0m\u001b[0msale\u001b[0m\u001b[1;33m]\u001b[0m\u001b[1;33m)\u001b[0m\u001b[1;33m\u001b[0m\u001b[0m\n\u001b[1;32m---> 15\u001b[1;33m \u001b[0mplt\u001b[0m\u001b[1;33m.\u001b[0m\u001b[0mimshow\u001b[0m\u001b[1;33m(\u001b[0m\u001b[0mimg\u001b[0m\u001b[1;33m,\u001b[0m \u001b[0mzorder\u001b[0m\u001b[1;33m=\u001b[0m\u001b[1;36m0\u001b[0m\u001b[1;33m,\u001b[0m \u001b[0mextent\u001b[0m\u001b[1;33m=\u001b[0m\u001b[1;33m[\u001b[0m\u001b[0mleft\u001b[0m\u001b[1;33m,\u001b[0m \u001b[0mright\u001b[0m\u001b[1;33m,\u001b[0m \u001b[0mtop\u001b[0m\u001b[1;33m,\u001b[0m \u001b[0mbottom\u001b[0m\u001b[1;33m]\u001b[0m\u001b[1;33m)\u001b[0m\u001b[1;33m\u001b[0m\u001b[0m\n\u001b[0m\u001b[0;32m     16\u001b[0m \u001b[0mplt\u001b[0m\u001b[1;33m.\u001b[0m\u001b[0mshow\u001b[0m\u001b[1;33m(\u001b[0m\u001b[1;33m)\u001b[0m\u001b[1;33m\u001b[0m\u001b[0m\n",
      "\u001b[1;32mC:\\Anaconda2\\lib\\site-packages\\matplotlib\\pyplot.pyc\u001b[0m in \u001b[0;36mimshow\u001b[1;34m(X, cmap, norm, aspect, interpolation, alpha, vmin, vmax, origin, extent, shape, filternorm, filterrad, imlim, resample, url, hold, data, **kwargs)\u001b[0m\n\u001b[0;32m   3020\u001b[0m                         \u001b[0mfilternorm\u001b[0m\u001b[1;33m=\u001b[0m\u001b[0mfilternorm\u001b[0m\u001b[1;33m,\u001b[0m \u001b[0mfilterrad\u001b[0m\u001b[1;33m=\u001b[0m\u001b[0mfilterrad\u001b[0m\u001b[1;33m,\u001b[0m\u001b[1;33m\u001b[0m\u001b[0m\n\u001b[0;32m   3021\u001b[0m                         \u001b[0mimlim\u001b[0m\u001b[1;33m=\u001b[0m\u001b[0mimlim\u001b[0m\u001b[1;33m,\u001b[0m \u001b[0mresample\u001b[0m\u001b[1;33m=\u001b[0m\u001b[0mresample\u001b[0m\u001b[1;33m,\u001b[0m \u001b[0murl\u001b[0m\u001b[1;33m=\u001b[0m\u001b[0murl\u001b[0m\u001b[1;33m,\u001b[0m \u001b[0mdata\u001b[0m\u001b[1;33m=\u001b[0m\u001b[0mdata\u001b[0m\u001b[1;33m,\u001b[0m\u001b[1;33m\u001b[0m\u001b[0m\n\u001b[1;32m-> 3022\u001b[1;33m                         **kwargs)\n\u001b[0m\u001b[0;32m   3023\u001b[0m     \u001b[1;32mfinally\u001b[0m\u001b[1;33m:\u001b[0m\u001b[1;33m\u001b[0m\u001b[0m\n\u001b[0;32m   3024\u001b[0m         \u001b[0max\u001b[0m\u001b[1;33m.\u001b[0m\u001b[0mhold\u001b[0m\u001b[1;33m(\u001b[0m\u001b[0mwashold\u001b[0m\u001b[1;33m)\u001b[0m\u001b[1;33m\u001b[0m\u001b[0m\n",
      "\u001b[1;32mC:\\Anaconda2\\lib\\site-packages\\matplotlib\\__init__.pyc\u001b[0m in \u001b[0;36minner\u001b[1;34m(ax, *args, **kwargs)\u001b[0m\n\u001b[0;32m   1809\u001b[0m                     warnings.warn(msg % (label_namer, func.__name__),\n\u001b[0;32m   1810\u001b[0m                                   RuntimeWarning, stacklevel=2)\n\u001b[1;32m-> 1811\u001b[1;33m             \u001b[1;32mreturn\u001b[0m \u001b[0mfunc\u001b[0m\u001b[1;33m(\u001b[0m\u001b[0max\u001b[0m\u001b[1;33m,\u001b[0m \u001b[1;33m*\u001b[0m\u001b[0margs\u001b[0m\u001b[1;33m,\u001b[0m \u001b[1;33m**\u001b[0m\u001b[0mkwargs\u001b[0m\u001b[1;33m)\u001b[0m\u001b[1;33m\u001b[0m\u001b[0m\n\u001b[0m\u001b[0;32m   1812\u001b[0m         \u001b[0mpre_doc\u001b[0m \u001b[1;33m=\u001b[0m \u001b[0minner\u001b[0m\u001b[1;33m.\u001b[0m\u001b[0m__doc__\u001b[0m\u001b[1;33m\u001b[0m\u001b[0m\n\u001b[0;32m   1813\u001b[0m         \u001b[1;32mif\u001b[0m \u001b[0mpre_doc\u001b[0m \u001b[1;32mis\u001b[0m \u001b[0mNone\u001b[0m\u001b[1;33m:\u001b[0m\u001b[1;33m\u001b[0m\u001b[0m\n",
      "\u001b[1;32mC:\\Anaconda2\\lib\\site-packages\\matplotlib\\axes\\_axes.pyc\u001b[0m in \u001b[0;36mimshow\u001b[1;34m(self, X, cmap, norm, aspect, interpolation, alpha, vmin, vmax, origin, extent, shape, filternorm, filterrad, imlim, resample, url, **kwargs)\u001b[0m\n\u001b[0;32m   4960\u001b[0m         \u001b[1;31m# update ax.dataLim, and, if autoscaling, set viewLim\u001b[0m\u001b[1;33m\u001b[0m\u001b[1;33m\u001b[0m\u001b[0m\n\u001b[0;32m   4961\u001b[0m         \u001b[1;31m# to tightly fit the image, regardless of dataLim.\u001b[0m\u001b[1;33m\u001b[0m\u001b[1;33m\u001b[0m\u001b[0m\n\u001b[1;32m-> 4962\u001b[1;33m         \u001b[0mim\u001b[0m\u001b[1;33m.\u001b[0m\u001b[0mset_extent\u001b[0m\u001b[1;33m(\u001b[0m\u001b[0mim\u001b[0m\u001b[1;33m.\u001b[0m\u001b[0mget_extent\u001b[0m\u001b[1;33m(\u001b[0m\u001b[1;33m)\u001b[0m\u001b[1;33m)\u001b[0m\u001b[1;33m\u001b[0m\u001b[0m\n\u001b[0m\u001b[0;32m   4963\u001b[0m \u001b[1;33m\u001b[0m\u001b[0m\n\u001b[0;32m   4964\u001b[0m         \u001b[0mself\u001b[0m\u001b[1;33m.\u001b[0m\u001b[0madd_image\u001b[0m\u001b[1;33m(\u001b[0m\u001b[0mim\u001b[0m\u001b[1;33m)\u001b[0m\u001b[1;33m\u001b[0m\u001b[0m\n",
      "\u001b[1;32mC:\\Anaconda2\\lib\\site-packages\\matplotlib\\image.pyc\u001b[0m in \u001b[0;36mset_extent\u001b[1;34m(self, extent)\u001b[0m\n\u001b[0;32m    694\u001b[0m         \u001b[0mself\u001b[0m\u001b[1;33m.\u001b[0m\u001b[0maxes\u001b[0m\u001b[1;33m.\u001b[0m\u001b[0mupdate_datalim\u001b[0m\u001b[1;33m(\u001b[0m\u001b[0mcorners\u001b[0m\u001b[1;33m)\u001b[0m\u001b[1;33m\u001b[0m\u001b[0m\n\u001b[0;32m    695\u001b[0m         \u001b[1;32mif\u001b[0m \u001b[0mself\u001b[0m\u001b[1;33m.\u001b[0m\u001b[0maxes\u001b[0m\u001b[1;33m.\u001b[0m\u001b[0m_autoscaleXon\u001b[0m\u001b[1;33m:\u001b[0m\u001b[1;33m\u001b[0m\u001b[0m\n\u001b[1;32m--> 696\u001b[1;33m             \u001b[0mself\u001b[0m\u001b[1;33m.\u001b[0m\u001b[0maxes\u001b[0m\u001b[1;33m.\u001b[0m\u001b[0mset_xlim\u001b[0m\u001b[1;33m(\u001b[0m\u001b[1;33m(\u001b[0m\u001b[0mxmin\u001b[0m\u001b[1;33m,\u001b[0m \u001b[0mxmax\u001b[0m\u001b[1;33m)\u001b[0m\u001b[1;33m,\u001b[0m \u001b[0mauto\u001b[0m\u001b[1;33m=\u001b[0m\u001b[0mNone\u001b[0m\u001b[1;33m)\u001b[0m\u001b[1;33m\u001b[0m\u001b[0m\n\u001b[0m\u001b[0;32m    697\u001b[0m         \u001b[1;32mif\u001b[0m \u001b[0mself\u001b[0m\u001b[1;33m.\u001b[0m\u001b[0maxes\u001b[0m\u001b[1;33m.\u001b[0m\u001b[0m_autoscaleYon\u001b[0m\u001b[1;33m:\u001b[0m\u001b[1;33m\u001b[0m\u001b[0m\n\u001b[0;32m    698\u001b[0m             \u001b[0mself\u001b[0m\u001b[1;33m.\u001b[0m\u001b[0maxes\u001b[0m\u001b[1;33m.\u001b[0m\u001b[0mset_ylim\u001b[0m\u001b[1;33m(\u001b[0m\u001b[1;33m(\u001b[0m\u001b[0mymin\u001b[0m\u001b[1;33m,\u001b[0m \u001b[0mymax\u001b[0m\u001b[1;33m)\u001b[0m\u001b[1;33m,\u001b[0m \u001b[0mauto\u001b[0m\u001b[1;33m=\u001b[0m\u001b[0mNone\u001b[0m\u001b[1;33m)\u001b[0m\u001b[1;33m\u001b[0m\u001b[0m\n",
      "\u001b[1;32mC:\\Anaconda2\\lib\\site-packages\\matplotlib\\axes\\_base.pyc\u001b[0m in \u001b[0;36mset_xlim\u001b[1;34m(self, left, right, emit, auto, **kw)\u001b[0m\n\u001b[0;32m   2786\u001b[0m                  \u001b[1;34m'in singular transformations; automatically expanding.\\n'\u001b[0m\u001b[1;33m\u001b[0m\u001b[0m\n\u001b[0;32m   2787\u001b[0m                  'left=%s, right=%s') % (left, right))\n\u001b[1;32m-> 2788\u001b[1;33m         \u001b[0mleft\u001b[0m\u001b[1;33m,\u001b[0m \u001b[0mright\u001b[0m \u001b[1;33m=\u001b[0m \u001b[0mmtransforms\u001b[0m\u001b[1;33m.\u001b[0m\u001b[0mnonsingular\u001b[0m\u001b[1;33m(\u001b[0m\u001b[0mleft\u001b[0m\u001b[1;33m,\u001b[0m \u001b[0mright\u001b[0m\u001b[1;33m,\u001b[0m \u001b[0mincreasing\u001b[0m\u001b[1;33m=\u001b[0m\u001b[0mFalse\u001b[0m\u001b[1;33m)\u001b[0m\u001b[1;33m\u001b[0m\u001b[0m\n\u001b[0m\u001b[0;32m   2789\u001b[0m         \u001b[0mleft\u001b[0m\u001b[1;33m,\u001b[0m \u001b[0mright\u001b[0m \u001b[1;33m=\u001b[0m \u001b[0mself\u001b[0m\u001b[1;33m.\u001b[0m\u001b[0mxaxis\u001b[0m\u001b[1;33m.\u001b[0m\u001b[0mlimit_range_for_scale\u001b[0m\u001b[1;33m(\u001b[0m\u001b[0mleft\u001b[0m\u001b[1;33m,\u001b[0m \u001b[0mright\u001b[0m\u001b[1;33m)\u001b[0m\u001b[1;33m\u001b[0m\u001b[0m\n\u001b[0;32m   2790\u001b[0m \u001b[1;33m\u001b[0m\u001b[0m\n",
      "\u001b[1;32mC:\\Anaconda2\\lib\\site-packages\\matplotlib\\transforms.pyc\u001b[0m in \u001b[0;36mnonsingular\u001b[1;34m(vmin, vmax, expander, tiny, increasing)\u001b[0m\n\u001b[0;32m   2749\u001b[0m     \u001b[0mclose\u001b[0m \u001b[0mto\u001b[0m \u001b[0mzero\u001b[0m\u001b[1;33m,\u001b[0m \u001b[0mit\u001b[0m \u001b[0mreturns\u001b[0m \u001b[1;33m-\u001b[0m\u001b[1;33m*\u001b[0m\u001b[0mexpander\u001b[0m\u001b[1;33m*\u001b[0m\u001b[1;33m,\u001b[0m \u001b[1;33m*\u001b[0m\u001b[0mexpander\u001b[0m\u001b[1;33m*\u001b[0m\u001b[1;33m.\u001b[0m\u001b[1;33m\u001b[0m\u001b[0m\n\u001b[0;32m   2750\u001b[0m     '''\n\u001b[1;32m-> 2751\u001b[1;33m     \u001b[1;32mif\u001b[0m \u001b[1;33m(\u001b[0m\u001b[1;32mnot\u001b[0m \u001b[0mnp\u001b[0m\u001b[1;33m.\u001b[0m\u001b[0misfinite\u001b[0m\u001b[1;33m(\u001b[0m\u001b[0mvmin\u001b[0m\u001b[1;33m)\u001b[0m\u001b[1;33m)\u001b[0m \u001b[1;32mor\u001b[0m \u001b[1;33m(\u001b[0m\u001b[1;32mnot\u001b[0m \u001b[0mnp\u001b[0m\u001b[1;33m.\u001b[0m\u001b[0misfinite\u001b[0m\u001b[1;33m(\u001b[0m\u001b[0mvmax\u001b[0m\u001b[1;33m)\u001b[0m\u001b[1;33m)\u001b[0m\u001b[1;33m:\u001b[0m\u001b[1;33m\u001b[0m\u001b[0m\n\u001b[0m\u001b[0;32m   2752\u001b[0m         \u001b[1;32mreturn\u001b[0m \u001b[1;33m-\u001b[0m\u001b[0mexpander\u001b[0m\u001b[1;33m,\u001b[0m \u001b[0mexpander\u001b[0m\u001b[1;33m\u001b[0m\u001b[0m\n\u001b[0;32m   2753\u001b[0m \u001b[1;33m\u001b[0m\u001b[0m\n",
      "\u001b[1;31mTypeError\u001b[0m: ufunc 'isfinite' not supported for the input types, and the inputs could not be safely coerced to any supported types according to the casting rule ''safe''"
     ]
    },
    {
     "data": {
      "image/png": "[encoded data removed]",
      "text/plain": [
       "<matplotlib.figure.Figure at 0xa1e0dd8>"
      ]
     },
     "metadata": {},
     "output_type": "display_data"
    }
   ],
   "source": [
    "# And now off to plot some data:\n",
    "from scipy.misc import imread\n",
    "import matplotlib.cbook as cbook\n",
    "\n",
    "top = min(latitudes)\n",
    "left = max(longitudes)\n",
    "bottom = max(latitudes)\n",
    "right = min(longitudes)\n",
    "\n",
    "datafile = cbook.get_sample_data('Seattle.jpg')\n",
    "img = imread(datafile)\n",
    "fig=plt.figure(figsize=(18, 16), dpi= 80, facecolor='w', edgecolor='k')\n",
    "sale = plt.scatter(drug_sale_crime[:,x],drug_sale_crime[:,y], zorder=1, color='blue', label='Sale')\n",
    "plt.legend(handles=[sale])\n",
    "plt.imshow(img, zorder=0, extent=[left, right, top, bottom])\n",
    "plt.show()"
   ]
  },
  {
   "cell_type": "code",
   "execution_count": null,
   "metadata": {
    "collapsed": false
   },
   "outputs": [],
   "source": [
    "# OK, that's looking good. There seems to be a concentration of data in the city centre, which is unsurprising.\n",
    "# Before we zoom in, let's see if that pattern is repeated for all other drug related offense:\n",
    "fig=plt.figure(figsize=(18, 16), dpi= 80, facecolor='w', edgecolor='k')\n",
    "sale = plt.scatter(drug_sale_crime[:,x],drug_sale_crime[:,y], zorder=1, color='blue', label='Sale')\n",
    "possession = plt.scatter(drug_possession_crime[:,x],drug_possession_crime[:,y], zorder=1, color='red', label='Possession')\n",
    "abuse = plt.scatter(drug_abuse_crime[:,x],drug_abuse_crime[:,y], zorder=1, color='green', label='Abuse')\n",
    "manufacture = plt.scatter(drug_manufacture_crime[:,x],drug_manufacture_crime[:,y], zorder=1, color='black', label='Manufacture')\n",
    "plt.legend(handles=[sale, possession, abuse, manufacture])\n",
    "plt.imshow(img, zorder=0, extent=[left, right, top, bottom])\n",
    "plt.show()"
   ]
  },
  {
   "cell_type": "code",
   "execution_count": null,
   "metadata": {
    "collapsed": false
   },
   "outputs": [],
   "source": [
    "# Let's zoom in to the downtown area\n",
    "top = 47.583003\n",
    "left = -122.357062\n",
    "bottom = 47.633579\n",
    "right = -122.312086\n",
    "\n",
    "# First reduce the data set by using a boolean mask\n",
    "# Note that the coordinates are strings, and so we need to treat negative numbers as positives.\n",
    "sale_dt_mask = (drug_sale_crime[:,x] < str(left)) + (drug_sale_crime[:,x] > str(right)) + \\\n",
    "               (drug_sale_crime[:,y] > str(bottom)) + (drug_sale_crime[:,y] < str(top))\n",
    "poss_dt_mask = (drug_possession_crime[:,x] < str(left)) + (drug_possession_crime[:,x] > str(right)) + \\\n",
    "               (drug_possession_crime[:,y] > str(bottom)) + (drug_possession_crime[:,y] < str(top))\n",
    "abus_dt_mask = (drug_abuse_crime[:,x] < str(left)) + (drug_abuse_crime[:,x] > str(right)) + \\\n",
    "               (drug_abuse_crime[:,y] > str(bottom)) + (drug_abuse_crime[:,y] < str(top))\n",
    "manu_dt_mask = (drug_manufacture_crime[:,x] < str(left)) + (drug_manufacture_crime[:,x] > str(right)) + \\\n",
    "               (drug_manufacture_crime[:,y] > str(bottom)) + (drug_manufacture_crime[:,y] < str(top))"
   ]
  },
  {
   "cell_type": "code",
   "execution_count": null,
   "metadata": {
    "collapsed": false
   },
   "outputs": [],
   "source": [
    "drug_sale_crime = drug_sale_crime[sale_dt_mask]\n",
    "drug_possession_crime = drug_possession_crime[poss_dt_mask]\n",
    "drug_abuse_crime = drug_abuse_crime[abus_dt_mask]\n",
    "drug_manufacture_crime = drug_manufacture_crime[manu_dt_mask]"
   ]
  },
  {
   "cell_type": "code",
   "execution_count": null,
   "metadata": {
    "collapsed": false
   },
   "outputs": [],
   "source": [
    "# Now to plot the new figure\n",
    "datafile = cbook.get_sample_data('Seattle_Downtown.jpg')\n",
    "img = imread(datafile)\n",
    "fig=plt.figure(figsize=(20, 12), dpi= 80, facecolor='w', edgecolor='k')\n",
    "sale = plt.scatter(drug_sale_crime[:,x],drug_sale_crime[:,y], zorder=1, color='blue', label='Sale')\n",
    "possession = plt.scatter(drug_possession_crime[:,x],drug_possession_crime[:,y], zorder=1, color='red', label='Possession')\n",
    "abuse = plt.scatter(drug_abuse_crime[:,x],drug_abuse_crime[:,y], zorder=1, color='green', label='Abuse')\n",
    "manufacture = plt.scatter(drug_manufacture_crime[:,x],drug_manufacture_crime[:,y], zorder=1, color='black', label='Manufacture')\n",
    "plt.legend(handles=[sale, possession, abuse, manufacture])\n",
    "plt.imshow(img, zorder=0, extent=[left, right, top, bottom])\n",
    "plt.show()"
   ]
  },
  {
   "cell_type": "markdown",
   "metadata": {},
   "source": [
    "It seems clear from the above maps that there is a concentration of narcotic manufacturing and distribution \n",
    "in the Pioneer Square area of downtown Seattle, whereas in the Pike Place market we see sale and purchasing activity.\n",
    "There is also a drug possession and abuse correlation going on in the Capitol Hill area."
   ]
  },
  {
   "cell_type": "code",
   "execution_count": null,
   "metadata": {
    "collapsed": true
   },
   "outputs": [],
   "source": []
  }
 ],
 "metadata": {
  "kernelspec": {
   "display_name": "Python 2",
   "language": "python",
   "name": "python2"
  },
  "language_info": {
   "codemirror_mode": {
    "name": "ipython",
    "version": 2
   },
   "file_extension": ".py",
   "mimetype": "text/x-python",
   "name": "python",
   "nbconvert_exporter": "python",
   "pygments_lexer": "ipython2",
   "version": "2.7.12"
  }
 },
 "nbformat": 4,
 "nbformat_minor": 0
}
